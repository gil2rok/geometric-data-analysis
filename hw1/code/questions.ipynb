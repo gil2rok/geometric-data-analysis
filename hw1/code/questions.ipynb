{
 "cells": [
  {
   "cell_type": "markdown",
   "metadata": {},
   "source": [
    "# Imports and Defaults"
   ]
  },
  {
   "cell_type": "code",
   "execution_count": 1,
   "metadata": {},
   "outputs": [],
   "source": [
    "import numpy as np\n",
    "import matplotlib.pyplot as plt\n",
    "import seaborn as sns"
   ]
  },
  {
   "cell_type": "code",
   "execution_count": 4,
   "metadata": {},
   "outputs": [],
   "source": [
    "sns.set_theme()\n",
    "seed = 1\n",
    "rng = np.random.default_rng(seed)"
   ]
  },
  {
   "cell_type": "markdown",
   "metadata": {},
   "source": [
    "# Utility Functions"
   ]
  },
  {
   "cell_type": "code",
   "execution_count": 66,
   "metadata": {},
   "outputs": [],
   "source": [
    "def gaussian_sample(dim, num_gaussians, means, widths, num_data_pts=1000):\n",
    "    # TODO: code currently ignores dimensions\n",
    "    \n",
    "    X = np.zeros(shape=(num_data_pts, 2))\n",
    "    for i in range(num_gaussians):\n",
    "        X += rng.multivariate_normal(means[i], widths[i] * np.eye(2), size=(num_data_pts))\n",
    "    return X\n",
    "\n",
    "def euclidean_dist(u,v):\n",
    "    return np.power(np.power(u - v, 2).sum(), 1/2)"
   ]
  },
  {
   "cell_type": "markdown",
   "metadata": {},
   "source": [
    "# K Means"
   ]
  },
  {
   "cell_type": "code",
   "execution_count": 85,
   "metadata": {},
   "outputs": [],
   "source": [
    "class KMeans:\n",
    "    def __init__(self, X, k, metric):\n",
    "        \"\"\" Class for K means clustering\n",
    "\n",
    "        Args:\n",
    "            X ([m x n]): m data points in n dimensional space\n",
    "            k (int): num clusters\n",
    "            metric (callable): function to compute distance\n",
    "        \"\"\"\n",
    "        \n",
    "        self.X = X # data to cluster\n",
    "        self.k = k # num clusters\n",
    "        self.metric = metric # callable metric\n",
    "        self.m = self.X.shape[0] # num data points\n",
    "        \n",
    "    def init_means(self):\n",
    "        \"\"\" Select k data points to initialize k means (Forgy method)\n",
    "        \"\"\"\n",
    "        \n",
    "        idx = rng.integers(low=0, high=self.m, size=self.k) \n",
    "        print(idx)\n",
    "        self.means = self.X[idx]\n",
    "        \n",
    "    def assign_clusters(self):\n",
    "        self.assignments = [None] * self.m\n",
    "        # iterate over all m datapoints\n",
    "        for i in range(self.m):\n",
    "            x_i = self.X[i,:] # data point\n",
    "            min_dist = np.array([0.]) # init min dist\n",
    "            min_assignement = None # init min assignment\n",
    "            \n",
    "            # iterate over all means\n",
    "            for j in range(self.k):\n",
    "                x_j = self.means[j,:] # cluster mean\n",
    "                cur_dist = self.metric(x_i, x_j) # distance btwn data point and cluster mean\n",
    "                \n",
    "                # update min distance and cluster assignement\n",
    "                if cur_dist < min_dist:\n",
    "                    min_dist = cur_dist\n",
    "                    min_assignement = j\n",
    "                    \n",
    "            self.assignments[i] = (min_assignement, min_dist) # save cluster assignement         \n",
    "\n",
    "    def update_clusters(self):\n",
    "        # iterate over all k means\n",
    "        for i in range(self.k):\n",
    "            total_dist, num_pts = 0, 0\n",
    "            \n",
    "            # iterate over all data points in k-th mean\n",
    "            for (assignment, dist) in self.assignments:\n",
    "                if assignment == i:\n",
    "                    total_dist += dist\n",
    "                    num_pts += 1\n",
    "            \n",
    "            # update k-th mean\n",
    "            print(total_dist, num_pts)\n",
    "            self.means[self.k, :] = total_dist / num_pts\n",
    "      \n",
    "    def fit(self):\n",
    "        self.init_means()\n",
    "        prev_assignments = self.assign_clusters()\n",
    "        \n",
    "        self.update_clusters()\n",
    "        self.assign_clusters()\n",
    "        \n",
    "        while self.assignments != prev_assignments:\n",
    "            self.update_clusters()\n",
    "            prev_assignments = self.assignments\n",
    "            self.assign_clusters()"
   ]
  },
  {
   "cell_type": "code",
   "execution_count": 86,
   "metadata": {},
   "outputs": [],
   "source": [
    "means = [np.array([0,0]), np.array([5,5])]\n",
    "widths = [1, 1]\n",
    "num_gaussians = len(means)\n",
    "num_data_pts = 1000\n",
    "dim = None # TODO: currently not relevant to sampling code\n",
    "\n",
    "X = gaussian_sample(dim, num_gaussians, means, widths, num_data_pts=num_data_pts)"
   ]
  },
  {
   "cell_type": "code",
   "execution_count": 87,
   "metadata": {},
   "outputs": [
    {
     "name": "stdout",
     "output_type": "stream",
     "text": [
      "[141 203]\n",
      "0 0\n"
     ]
    },
    {
     "ename": "ZeroDivisionError",
     "evalue": "division by zero",
     "output_type": "error",
     "traceback": [
      "\u001b[0;31m---------------------------------------------------------------------------\u001b[0m",
      "\u001b[0;31mZeroDivisionError\u001b[0m                         Traceback (most recent call last)",
      "Cell \u001b[0;32mIn [87], line 2\u001b[0m\n\u001b[1;32m      1\u001b[0m kmeans \u001b[38;5;241m=\u001b[39m KMeans(X, \u001b[38;5;241m2\u001b[39m, euclidean_dist)\n\u001b[0;32m----> 2\u001b[0m \u001b[43mkmeans\u001b[49m\u001b[38;5;241;43m.\u001b[39;49m\u001b[43mfit\u001b[49m\u001b[43m(\u001b[49m\u001b[43m)\u001b[49m\n",
      "Cell \u001b[0;32mIn [85], line 63\u001b[0m, in \u001b[0;36mKMeans.fit\u001b[0;34m(self)\u001b[0m\n\u001b[1;32m     60\u001b[0m \u001b[38;5;28mself\u001b[39m\u001b[38;5;241m.\u001b[39minit_means()\n\u001b[1;32m     61\u001b[0m prev_assignments \u001b[38;5;241m=\u001b[39m \u001b[38;5;28mself\u001b[39m\u001b[38;5;241m.\u001b[39massign_clusters()\n\u001b[0;32m---> 63\u001b[0m \u001b[38;5;28;43mself\u001b[39;49m\u001b[38;5;241;43m.\u001b[39;49m\u001b[43mupdate_clusters\u001b[49m\u001b[43m(\u001b[49m\u001b[43m)\u001b[49m\n\u001b[1;32m     64\u001b[0m \u001b[38;5;28mself\u001b[39m\u001b[38;5;241m.\u001b[39massign_clusters()\n\u001b[1;32m     66\u001b[0m \u001b[38;5;28;01mwhile\u001b[39;00m \u001b[38;5;28mself\u001b[39m\u001b[38;5;241m.\u001b[39massignments \u001b[38;5;241m!=\u001b[39m prev_assignments:\n",
      "Cell \u001b[0;32mIn [85], line 57\u001b[0m, in \u001b[0;36mKMeans.update_clusters\u001b[0;34m(self)\u001b[0m\n\u001b[1;32m     55\u001b[0m \u001b[38;5;66;03m# update k-th mean\u001b[39;00m\n\u001b[1;32m     56\u001b[0m \u001b[38;5;28mprint\u001b[39m(total_dist, num_pts)\n\u001b[0;32m---> 57\u001b[0m \u001b[38;5;28mself\u001b[39m\u001b[38;5;241m.\u001b[39mmeans[\u001b[38;5;28mself\u001b[39m\u001b[38;5;241m.\u001b[39mk, :] \u001b[38;5;241m=\u001b[39m \u001b[43mtotal_dist\u001b[49m\u001b[43m \u001b[49m\u001b[38;5;241;43m/\u001b[39;49m\u001b[43m \u001b[49m\u001b[43mnum_pts\u001b[49m\n",
      "\u001b[0;31mZeroDivisionError\u001b[0m: division by zero"
     ]
    }
   ],
   "source": [
    "kmeans = KMeans(X, 2, euclidean_dist)\n",
    "kmeans.fit()"
   ]
  },
  {
   "cell_type": "code",
   "execution_count": null,
   "metadata": {},
   "outputs": [],
   "source": []
  }
 ],
 "metadata": {
  "kernelspec": {
   "display_name": "Python 3.10.6 ('base')",
   "language": "python",
   "name": "python3"
  },
  "language_info": {
   "codemirror_mode": {
    "name": "ipython",
    "version": 3
   },
   "file_extension": ".py",
   "mimetype": "text/x-python",
   "name": "python",
   "nbconvert_exporter": "python",
   "pygments_lexer": "ipython3",
   "version": "3.10.6"
  },
  "orig_nbformat": 4,
  "vscode": {
   "interpreter": {
    "hash": "d6252791f2ec4b39750e2c77ad0ff8cbaad712235db0b5813c7d7a67c13a0135"
   }
  }
 },
 "nbformat": 4,
 "nbformat_minor": 2
}
