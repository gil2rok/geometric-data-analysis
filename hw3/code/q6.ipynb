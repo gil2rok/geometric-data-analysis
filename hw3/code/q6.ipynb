{
 "cells": [
  {
   "cell_type": "markdown",
   "metadata": {},
   "source": [
    "# Defaults and Imports"
   ]
  },
  {
   "cell_type": "code",
   "execution_count": 340,
   "metadata": {},
   "outputs": [],
   "source": [
    "import numpy as np\n",
    "import os\n",
    "import plotly.express as px\n",
    "import plotly.graph_objects as go\n",
    "import pandas as pd\n",
    "\n",
    "from tqdm import tqdm\n",
    "from itertools import combinations\n",
    "from numpy.random import default_rng\n",
    "from numpy.linalg import norm"
   ]
  },
  {
   "cell_type": "code",
   "execution_count": 339,
   "metadata": {},
   "outputs": [],
   "source": [
    "path = '../writeup/images/q6'\n",
    "seed = 0\n",
    "rng = default_rng(seed)"
   ]
  },
  {
   "cell_type": "markdown",
   "metadata": {},
   "source": [
    "# Probabilistic JS Lemma"
   ]
  },
  {
   "cell_type": "code",
   "execution_count": 308,
   "metadata": {},
   "outputs": [],
   "source": [
    "# parameters\n",
    "eps = 0.1\n",
    "delta = 0.2\n",
    "n = 1000\n",
    "D = 50\n",
    "\n",
    "assert(eps > 0)\n",
    "assert(delta < 0.5)\n",
    "\n",
    "def compute_dim(eps, delta):\n",
    "    d = np.power(eps, -2) * np.log(1/delta)\n",
    "    return np.ceil(d).astype(int) # round up and convert to int"
   ]
  },
  {
   "cell_type": "code",
   "execution_count": 309,
   "metadata": {},
   "outputs": [],
   "source": [
    "def generate_data(n, D):\n",
    "    # generate normalized data matrix X [n, D]\n",
    "    X = rng.multivariate_normal(mean=np.array([0]), cov=np.array([[1]]),\n",
    "                                size=(n,D)).squeeze()\n",
    "    X /= X.sum(axis=1)[:, np.newaxis]\n",
    "\n",
    "    # projection dimension\n",
    "    d = compute_dim(eps, delta)\n",
    "\n",
    "    # generate projection matrix\n",
    "    A = rng.multivariate_normal(mean=np.array([0]), cov=np.array([[1/d]]),\n",
    "                                size=(d,D)).squeeze()\n",
    "    \n",
    "    return X, A\n"
   ]
  },
  {
   "cell_type": "code",
   "execution_count": 319,
   "metadata": {},
   "outputs": [],
   "source": [
    "def check_distortion(X, A):\n",
    "    n = X.shape[0]\n",
    "    distored = 0\n",
    "    \n",
    "    # iterate over all data points x_i\n",
    "    for x in X:\n",
    "        # check if projected data pt Ax beyond distortion bounds eps\n",
    "        distored += np.abs((norm(A @ x) ** 2) - 1) > eps # distored = 1, undistorted = 0\n",
    "    \n",
    "    return distored / n # normalize"
   ]
  },
  {
   "cell_type": "code",
   "execution_count": 320,
   "metadata": {},
   "outputs": [
    {
     "name": "stdout",
     "output_type": "stream",
     "text": [
      "0.95\n"
     ]
    }
   ],
   "source": [
    "X, A = generate_data(n, D)\n",
    "distortion_percentage = check_distortion(X, A)\n",
    "print(distortion_percentage)"
   ]
  },
  {
   "cell_type": "markdown",
   "metadata": {},
   "source": [
    "# Deterministic JL Lemma"
   ]
  },
  {
   "cell_type": "code",
   "execution_count": 324,
   "metadata": {},
   "outputs": [],
   "source": [
    "eps = 0.1 # distortion bound\n",
    "n = 15 # num data points\n",
    "d = 300 # original dimension\n",
    "\n",
    "def projection_dim(eps, n):\n",
    "    t1 = np.power(eps, 2)/2 - np.power(eps, 3)/3\n",
    "    t2 = (4 / t1) * np.log(n)\n",
    "    return np.ceil(t2).astype(int)"
   ]
  },
  {
   "cell_type": "code",
   "execution_count": 325,
   "metadata": {},
   "outputs": [],
   "source": [
    "def generate_data(n, d):\n",
    "    X = rng.multivariate_normal(mean=np.array([0]), cov=np.array([[1]]),\n",
    "                                size=(n,d)).squeeze() # [n x d]\n",
    "    # X = np.eye(n, d)\n",
    "    k = projection_dim(eps, n) # projection dim\n",
    "    A = rng.multivariate_normal(mean=np.array([0]), cov=np.array([[1/k]]),\n",
    "                                size=(k,d)).squeeze() # [k x d]\n",
    "    return X, A\n",
    "\n",
    "    # A x = [k x d] x [d x 1] = [k x 1]\n",
    "\n",
    "def check_projection(X, A, eps):\n",
    "    lower_list, upper_list, new_dist_list = [], [], []\n",
    "    within_bounds = 0 # num pairwise distances that are out of bounds\n",
    "    n = X.shape[0]\n",
    "    \n",
    "    # iterate pairwise over all data points u, v \\in X\n",
    "    for i,j in tqdm(combinations(range(X.shape[0]), 2)):\n",
    "        u, v = X[i,:], X[j,:]\n",
    "        original_dist = norm(u-v) ** 2\n",
    "        new_dist = norm(A @ u - A @ v) ** 2\n",
    "                \n",
    "        lower_bound = (1 - eps) * original_dist\n",
    "        upper_bound = (1 + eps) * original_dist\n",
    "        within_bounds += (lower_bound <= new_dist <= upper_bound) # True = 1, False = 0\n",
    "        \n",
    "        lower_list.append(lower_bound)\n",
    "        upper_list.append(upper_bound)\n",
    "        new_dist_list.append(new_dist)\n",
    "        \n",
    "    within_bounds /= (n*(n-1)/2) # normalize\n",
    "    return within_bounds, lower_list, upper_list, new_dist_list"
   ]
  },
  {
   "cell_type": "code",
   "execution_count": 326,
   "metadata": {},
   "outputs": [
    {
     "name": "stderr",
     "output_type": "stream",
     "text": [
      "105it [00:00, 2546.32it/s]"
     ]
    },
    {
     "name": "stdout",
     "output_type": "stream",
     "text": [
      "100.0% of pairwise distances are within bounds\n"
     ]
    },
    {
     "name": "stderr",
     "output_type": "stream",
     "text": [
      "\n"
     ]
    }
   ],
   "source": [
    "X, A = generate_data(n, d)\n",
    "within_bounds, lower, upper, new_dist = check_projection(X, A, eps)\n",
    "\n",
    "print(f'{within_bounds*100}% of pairwise distances are within bounds')\n"
   ]
  },
  {
   "cell_type": "code",
   "execution_count": 341,
   "metadata": {},
   "outputs": [
    {
     "data": {
      "application/vnd.plotly.v1+json": {
       "config": {
        "plotlyServerURL": "https://plot.ly"
       },
       "data": [
        {
         "hovertemplate": "variable=Lower Distortion Bound<br>index=%{x}<br>value=%{y}<extra></extra>",
         "legendgroup": "Lower Distortion Bound",
         "marker": {
          "color": "#636efa",
          "size": 3,
          "symbol": "circle"
         },
         "mode": "markers",
         "name": "Lower Distortion Bound",
         "orientation": "v",
         "showlegend": true,
         "type": "scatter",
         "x": [
          0,
          1,
          2,
          3,
          4,
          5,
          6,
          7,
          8,
          9,
          10,
          11,
          12,
          13,
          14,
          15,
          16,
          17,
          18,
          19,
          20,
          21,
          22,
          23,
          24,
          25,
          26,
          27,
          28,
          29,
          30,
          31,
          32,
          33,
          34,
          35,
          36,
          37,
          38,
          39,
          40,
          41,
          42,
          43,
          44,
          45,
          46,
          47,
          48,
          49,
          50,
          51,
          52,
          53,
          54,
          55,
          56,
          57,
          58,
          59,
          60,
          61,
          62,
          63,
          64,
          65,
          66,
          67,
          68,
          69,
          70,
          71,
          72,
          73,
          74,
          75,
          76,
          77,
          78,
          79,
          80,
          81,
          82,
          83,
          84,
          85,
          86,
          87,
          88,
          89,
          90,
          91,
          92,
          93,
          94,
          95,
          96,
          97,
          98,
          99,
          100,
          101,
          102,
          103,
          104
         ],
         "xaxis": "x",
         "y": [
          478.3574140501241,
          539.8163247456318,
          491.1577618655705,
          537.4059675508415,
          516.9180023596713,
          553.2520713987224,
          544.8144133014938,
          528.0839150071847,
          626.4088574579553,
          632.6141725311774,
          578.0608442177826,
          561.1560439473384,
          565.2391437369516,
          533.4352908449475,
          463.50473742444774,
          481.7753775973764,
          488.4439828039287,
          514.1222043822991,
          470.84749338062085,
          476.18091061917215,
          516.9747782065842,
          579.205790288958,
          534.0653793700785,
          512.025894550079,
          505.97611093522227,
          493.5473815522692,
          501.68463163616275,
          470.89137176801717,
          517.461652993673,
          540.6738448467938,
          613.0047861092062,
          552.6472531849593,
          541.2602021080088,
          593.2996471777275,
          632.1856337248649,
          553.9706050254844,
          524.4677032638945,
          581.4435411733905,
          539.4724246853574,
          451.216718918686,
          478.3510154159347,
          514.9406923736608,
          467.22640634850694,
          515.7341629345162,
          580.5460312922318,
          608.4550303071003,
          522.3984041017009,
          484.7479585542357,
          532.5911138893782,
          465.2017436274025,
          564.5597384131366,
          514.0865287545632,
          498.66322946447116,
          482.96587040842996,
          556.684204139141,
          569.5303774882751,
          524.743620811925,
          496.2826944208148,
          521.8610204795449,
          560.0355084515501,
          476.5808224291222,
          550.1380917975615,
          581.9811399183587,
          591.4127228684212,
          625.0146948534228,
          516.9787347394046,
          601.486842273351,
          571.4534597134718,
          507.78425981990813,
          526.1565096710269,
          489.23887455794875,
          615.9869213508422,
          599.7537851455819,
          529.2926876577072,
          571.4531484565811,
          541.8430754554647,
          489.4412511866795,
          463.4359930449692,
          624.3067416534406,
          565.1690340190049,
          521.2904753769584,
          506.5354552763809,
          510.9590751563987,
          507.1361278668621,
          534.3865059408887,
          612.0431279190203,
          557.6149210322775,
          529.7866110707839,
          586.5519363322818,
          568.2591044573445,
          634.8156480026878,
          651.8715314556134,
          576.7670672065508,
          602.5868369197157,
          588.3913874162381,
          568.8227273431385,
          567.5519513551297,
          565.8655190807017,
          564.1688858812454,
          514.6496814954733,
          498.3643580671445,
          558.8478380703356,
          544.5469752881868,
          584.9927801138408,
          535.2442700293504
         ],
         "yaxis": "y"
        },
        {
         "hovertemplate": "variable=Upper Distortion Bound<br>index=%{x}<br>value=%{y}<extra></extra>",
         "legendgroup": "Upper Distortion Bound",
         "marker": {
          "color": "#636efa",
          "size": 3,
          "symbol": "circle"
         },
         "mode": "markers",
         "name": "Upper Distortion Bound",
         "orientation": "v",
         "showlegend": true,
         "type": "scatter",
         "x": [
          0,
          1,
          2,
          3,
          4,
          5,
          6,
          7,
          8,
          9,
          10,
          11,
          12,
          13,
          14,
          15,
          16,
          17,
          18,
          19,
          20,
          21,
          22,
          23,
          24,
          25,
          26,
          27,
          28,
          29,
          30,
          31,
          32,
          33,
          34,
          35,
          36,
          37,
          38,
          39,
          40,
          41,
          42,
          43,
          44,
          45,
          46,
          47,
          48,
          49,
          50,
          51,
          52,
          53,
          54,
          55,
          56,
          57,
          58,
          59,
          60,
          61,
          62,
          63,
          64,
          65,
          66,
          67,
          68,
          69,
          70,
          71,
          72,
          73,
          74,
          75,
          76,
          77,
          78,
          79,
          80,
          81,
          82,
          83,
          84,
          85,
          86,
          87,
          88,
          89,
          90,
          91,
          92,
          93,
          94,
          95,
          96,
          97,
          98,
          99,
          100,
          101,
          102,
          103,
          104
         ],
         "xaxis": "x",
         "y": [
          584.6590616168183,
          659.7755080224389,
          600.3039311690306,
          656.829515895473,
          631.7886695507093,
          676.196976153994,
          665.884282924048,
          645.4358961198925,
          765.6108257819454,
          773.1950997603279,
          706.5188095995121,
          685.8573870467469,
          690.8478423451631,
          651.9764665882692,
          566.5057901854361,
          588.8365726190157,
          596.9870900936907,
          628.3715831339211,
          575.4802696874256,
          581.998890756766,
          631.8580622524919,
          707.9181881309488,
          652.7465747856515,
          625.8094266723188,
          618.4152466986051,
          603.2245774527735,
          613.1701053330878,
          575.5338988275765,
          632.4531314367116,
          660.8235881460813,
          749.2280719112521,
          675.457753892728,
          661.5402470208996,
          725.1440132172226,
          772.6713301081684,
          677.0751839200365,
          641.0160817669822,
          710.6532169896996,
          659.3551857265479,
          551.4871009006163,
          584.6512410639202,
          629.3719573455854,
          571.0544966481751,
          630.3417546977421,
          709.5562604682833,
          743.6672592642337,
          638.4869383465233,
          592.4697271218437,
          650.9446947536845,
          568.5799088779364,
          690.0174580605004,
          628.3279795889106,
          609.4772804565758,
          590.2916193880811,
          680.3918050589501,
          696.0926835967807,
          641.3533143256861,
          606.5677376254404,
          637.830136141666,
          684.4878436630056,
          582.487671857816,
          672.3910010859086,
          711.3102821224385,
          722.837772394737,
          763.9068492652946,
          631.8628980148278,
          735.1505850007625,
          698.4431174275767,
          620.6252064465544,
          643.0801784868107,
          597.9586244597152,
          752.8729038732515,
          733.0324040668224,
          646.9132849149755,
          698.442737002488,
          662.2526477789014,
          598.2059736726083,
          566.4217692771847,
          763.0415731319829,
          690.762152689895,
          637.1328032385047,
          619.0988897822433,
          624.5055363022651,
          619.8330451706094,
          653.1390628166417,
          748.0527119010248,
          681.5293479283392,
          647.5169690865138,
          716.896811072789,
          694.5389054478655,
          775.8857920032851,
          796.7318717790831,
          704.9375265857843,
          736.4950229018748,
          719.1450290642911,
          695.227777863836,
          693.6746072118253,
          691.6134122097466,
          689.539749410411,
          629.0162773833562,
          609.1119931931767,
          683.0362465304102,
          665.5574142411173,
          714.9911756946943,
          654.1874411469839
         ],
         "yaxis": "y"
        },
        {
         "hovertemplate": "variable=Embedding Distortion<br>index=%{x}<br>value=%{y}<extra></extra>",
         "legendgroup": "Embedding Distortion",
         "marker": {
          "color": "black",
          "size": 3,
          "symbol": "circle"
         },
         "mode": "markers",
         "name": "Embedding Distortion",
         "orientation": "v",
         "showlegend": true,
         "type": "scatter",
         "x": [
          0,
          1,
          2,
          3,
          4,
          5,
          6,
          7,
          8,
          9,
          10,
          11,
          12,
          13,
          14,
          15,
          16,
          17,
          18,
          19,
          20,
          21,
          22,
          23,
          24,
          25,
          26,
          27,
          28,
          29,
          30,
          31,
          32,
          33,
          34,
          35,
          36,
          37,
          38,
          39,
          40,
          41,
          42,
          43,
          44,
          45,
          46,
          47,
          48,
          49,
          50,
          51,
          52,
          53,
          54,
          55,
          56,
          57,
          58,
          59,
          60,
          61,
          62,
          63,
          64,
          65,
          66,
          67,
          68,
          69,
          70,
          71,
          72,
          73,
          74,
          75,
          76,
          77,
          78,
          79,
          80,
          81,
          82,
          83,
          84,
          85,
          86,
          87,
          88,
          89,
          90,
          91,
          92,
          93,
          94,
          95,
          96,
          97,
          98,
          99,
          100,
          101,
          102,
          103,
          104
         ],
         "xaxis": "x",
         "y": [
          556.9719530178387,
          622.101589200218,
          545.799003918891,
          597.1782222284462,
          586.9229875369315,
          612.6676867183666,
          602.4478886983137,
          556.0278465607389,
          714.0148041033553,
          713.1543130313704,
          650.5657151786639,
          634.6922848806803,
          595.6504655676831,
          585.5591639762891,
          548.2418173008238,
          537.9467596042399,
          528.5891521385569,
          569.5084657005483,
          500.37973342734165,
          536.511929649555,
          534.8553628924398,
          671.4685575305326,
          590.7712104293715,
          571.9384099196795,
          583.1009331829415,
          543.3445831125164,
          552.2577310077929,
          531.3167076220194,
          561.9002614840401,
          611.5429096601106,
          699.4517868990143,
          622.2321997068105,
          611.259598228151,
          694.7807795583152,
          685.4824118774861,
          651.5907960358746,
          594.4448453160295,
          639.5928404265759,
          624.8457693361763,
          490.69329034406104,
          544.5850519066732,
          565.1750223962316,
          517.5861935657156,
          552.4048432579683,
          658.4280807404191,
          680.5513223708823,
          619.0906630810541,
          562.6037616797536,
          585.2637714716041,
          534.9620149666449,
          610.0417709573771,
          562.5296593979493,
          555.5301174319214,
          520.5088220287779,
          605.7702782006418,
          634.585017611746,
          605.7184562715026,
          575.1587013146502,
          569.7203325630257,
          598.148050208201,
          533.558251361265,
          634.5388212762402,
          629.4502784357443,
          648.8736730291215,
          718.1856108403555,
          603.8787169492624,
          685.9658151368587,
          647.1225201138908,
          546.8775723905163,
          583.3923239355308,
          535.2717583198701,
          719.5831476163565,
          686.530010450599,
          607.6466451131025,
          659.1271572674959,
          611.3222568711401,
          545.1142186327905,
          488.5616239534507,
          700.0493169419995,
          625.437989541989,
          571.5330275483096,
          575.5345260279137,
          547.8400804125515,
          573.2270388206917,
          590.3308362224872,
          682.8856502723104,
          620.3348645534877,
          595.3971986702231,
          617.2266585223482,
          613.1037125542363,
          735.294260389429,
          739.5443510175799,
          677.8018085811425,
          642.7144705661319,
          640.7579114522224,
          652.296853811741,
          648.6031894857834,
          633.1820520601282,
          617.5493388481502,
          584.755635077585,
          554.3074415884188,
          631.781490944984,
          610.5856085183996,
          643.7216783162454,
          591.7648145333623
         ],
         "yaxis": "y"
        }
       ],
       "layout": {
        "font": {
         "family": "Serif",
         "size": 14
        },
        "margin": {
         "b": 5,
         "l": 5,
         "r": 5,
         "t": 5
        },
        "showlegend": true,
        "template": {
         "data": {
          "bar": [
           {
            "error_x": {
             "color": "#2a3f5f"
            },
            "error_y": {
             "color": "#2a3f5f"
            },
            "marker": {
             "line": {
              "color": "#E5ECF6",
              "width": 0.5
             },
             "pattern": {
              "fillmode": "overlay",
              "size": 10,
              "solidity": 0.2
             }
            },
            "type": "bar"
           }
          ],
          "barpolar": [
           {
            "marker": {
             "line": {
              "color": "#E5ECF6",
              "width": 0.5
             },
             "pattern": {
              "fillmode": "overlay",
              "size": 10,
              "solidity": 0.2
             }
            },
            "type": "barpolar"
           }
          ],
          "carpet": [
           {
            "aaxis": {
             "endlinecolor": "#2a3f5f",
             "gridcolor": "white",
             "linecolor": "white",
             "minorgridcolor": "white",
             "startlinecolor": "#2a3f5f"
            },
            "baxis": {
             "endlinecolor": "#2a3f5f",
             "gridcolor": "white",
             "linecolor": "white",
             "minorgridcolor": "white",
             "startlinecolor": "#2a3f5f"
            },
            "type": "carpet"
           }
          ],
          "choropleth": [
           {
            "colorbar": {
             "outlinewidth": 0,
             "ticks": ""
            },
            "type": "choropleth"
           }
          ],
          "contour": [
           {
            "colorbar": {
             "outlinewidth": 0,
             "ticks": ""
            },
            "colorscale": [
             [
              0,
              "#0d0887"
             ],
             [
              0.1111111111111111,
              "#46039f"
             ],
             [
              0.2222222222222222,
              "#7201a8"
             ],
             [
              0.3333333333333333,
              "#9c179e"
             ],
             [
              0.4444444444444444,
              "#bd3786"
             ],
             [
              0.5555555555555556,
              "#d8576b"
             ],
             [
              0.6666666666666666,
              "#ed7953"
             ],
             [
              0.7777777777777778,
              "#fb9f3a"
             ],
             [
              0.8888888888888888,
              "#fdca26"
             ],
             [
              1,
              "#f0f921"
             ]
            ],
            "type": "contour"
           }
          ],
          "contourcarpet": [
           {
            "colorbar": {
             "outlinewidth": 0,
             "ticks": ""
            },
            "type": "contourcarpet"
           }
          ],
          "heatmap": [
           {
            "colorbar": {
             "outlinewidth": 0,
             "ticks": ""
            },
            "colorscale": [
             [
              0,
              "#0d0887"
             ],
             [
              0.1111111111111111,
              "#46039f"
             ],
             [
              0.2222222222222222,
              "#7201a8"
             ],
             [
              0.3333333333333333,
              "#9c179e"
             ],
             [
              0.4444444444444444,
              "#bd3786"
             ],
             [
              0.5555555555555556,
              "#d8576b"
             ],
             [
              0.6666666666666666,
              "#ed7953"
             ],
             [
              0.7777777777777778,
              "#fb9f3a"
             ],
             [
              0.8888888888888888,
              "#fdca26"
             ],
             [
              1,
              "#f0f921"
             ]
            ],
            "type": "heatmap"
           }
          ],
          "heatmapgl": [
           {
            "colorbar": {
             "outlinewidth": 0,
             "ticks": ""
            },
            "colorscale": [
             [
              0,
              "#0d0887"
             ],
             [
              0.1111111111111111,
              "#46039f"
             ],
             [
              0.2222222222222222,
              "#7201a8"
             ],
             [
              0.3333333333333333,
              "#9c179e"
             ],
             [
              0.4444444444444444,
              "#bd3786"
             ],
             [
              0.5555555555555556,
              "#d8576b"
             ],
             [
              0.6666666666666666,
              "#ed7953"
             ],
             [
              0.7777777777777778,
              "#fb9f3a"
             ],
             [
              0.8888888888888888,
              "#fdca26"
             ],
             [
              1,
              "#f0f921"
             ]
            ],
            "type": "heatmapgl"
           }
          ],
          "histogram": [
           {
            "marker": {
             "pattern": {
              "fillmode": "overlay",
              "size": 10,
              "solidity": 0.2
             }
            },
            "type": "histogram"
           }
          ],
          "histogram2d": [
           {
            "colorbar": {
             "outlinewidth": 0,
             "ticks": ""
            },
            "colorscale": [
             [
              0,
              "#0d0887"
             ],
             [
              0.1111111111111111,
              "#46039f"
             ],
             [
              0.2222222222222222,
              "#7201a8"
             ],
             [
              0.3333333333333333,
              "#9c179e"
             ],
             [
              0.4444444444444444,
              "#bd3786"
             ],
             [
              0.5555555555555556,
              "#d8576b"
             ],
             [
              0.6666666666666666,
              "#ed7953"
             ],
             [
              0.7777777777777778,
              "#fb9f3a"
             ],
             [
              0.8888888888888888,
              "#fdca26"
             ],
             [
              1,
              "#f0f921"
             ]
            ],
            "type": "histogram2d"
           }
          ],
          "histogram2dcontour": [
           {
            "colorbar": {
             "outlinewidth": 0,
             "ticks": ""
            },
            "colorscale": [
             [
              0,
              "#0d0887"
             ],
             [
              0.1111111111111111,
              "#46039f"
             ],
             [
              0.2222222222222222,
              "#7201a8"
             ],
             [
              0.3333333333333333,
              "#9c179e"
             ],
             [
              0.4444444444444444,
              "#bd3786"
             ],
             [
              0.5555555555555556,
              "#d8576b"
             ],
             [
              0.6666666666666666,
              "#ed7953"
             ],
             [
              0.7777777777777778,
              "#fb9f3a"
             ],
             [
              0.8888888888888888,
              "#fdca26"
             ],
             [
              1,
              "#f0f921"
             ]
            ],
            "type": "histogram2dcontour"
           }
          ],
          "mesh3d": [
           {
            "colorbar": {
             "outlinewidth": 0,
             "ticks": ""
            },
            "type": "mesh3d"
           }
          ],
          "parcoords": [
           {
            "line": {
             "colorbar": {
              "outlinewidth": 0,
              "ticks": ""
             }
            },
            "type": "parcoords"
           }
          ],
          "pie": [
           {
            "automargin": true,
            "type": "pie"
           }
          ],
          "scatter": [
           {
            "fillpattern": {
             "fillmode": "overlay",
             "size": 10,
             "solidity": 0.2
            },
            "type": "scatter"
           }
          ],
          "scatter3d": [
           {
            "line": {
             "colorbar": {
              "outlinewidth": 0,
              "ticks": ""
             }
            },
            "marker": {
             "colorbar": {
              "outlinewidth": 0,
              "ticks": ""
             }
            },
            "type": "scatter3d"
           }
          ],
          "scattercarpet": [
           {
            "marker": {
             "colorbar": {
              "outlinewidth": 0,
              "ticks": ""
             }
            },
            "type": "scattercarpet"
           }
          ],
          "scattergeo": [
           {
            "marker": {
             "colorbar": {
              "outlinewidth": 0,
              "ticks": ""
             }
            },
            "type": "scattergeo"
           }
          ],
          "scattergl": [
           {
            "marker": {
             "colorbar": {
              "outlinewidth": 0,
              "ticks": ""
             }
            },
            "type": "scattergl"
           }
          ],
          "scattermapbox": [
           {
            "marker": {
             "colorbar": {
              "outlinewidth": 0,
              "ticks": ""
             }
            },
            "type": "scattermapbox"
           }
          ],
          "scatterpolar": [
           {
            "marker": {
             "colorbar": {
              "outlinewidth": 0,
              "ticks": ""
             }
            },
            "type": "scatterpolar"
           }
          ],
          "scatterpolargl": [
           {
            "marker": {
             "colorbar": {
              "outlinewidth": 0,
              "ticks": ""
             }
            },
            "type": "scatterpolargl"
           }
          ],
          "scatterternary": [
           {
            "marker": {
             "colorbar": {
              "outlinewidth": 0,
              "ticks": ""
             }
            },
            "type": "scatterternary"
           }
          ],
          "surface": [
           {
            "colorbar": {
             "outlinewidth": 0,
             "ticks": ""
            },
            "colorscale": [
             [
              0,
              "#0d0887"
             ],
             [
              0.1111111111111111,
              "#46039f"
             ],
             [
              0.2222222222222222,
              "#7201a8"
             ],
             [
              0.3333333333333333,
              "#9c179e"
             ],
             [
              0.4444444444444444,
              "#bd3786"
             ],
             [
              0.5555555555555556,
              "#d8576b"
             ],
             [
              0.6666666666666666,
              "#ed7953"
             ],
             [
              0.7777777777777778,
              "#fb9f3a"
             ],
             [
              0.8888888888888888,
              "#fdca26"
             ],
             [
              1,
              "#f0f921"
             ]
            ],
            "type": "surface"
           }
          ],
          "table": [
           {
            "cells": {
             "fill": {
              "color": "#EBF0F8"
             },
             "line": {
              "color": "white"
             }
            },
            "header": {
             "fill": {
              "color": "#C8D4E3"
             },
             "line": {
              "color": "white"
             }
            },
            "type": "table"
           }
          ]
         },
         "layout": {
          "annotationdefaults": {
           "arrowcolor": "#2a3f5f",
           "arrowhead": 0,
           "arrowwidth": 1
          },
          "autotypenumbers": "strict",
          "coloraxis": {
           "colorbar": {
            "outlinewidth": 0,
            "ticks": ""
           }
          },
          "colorscale": {
           "diverging": [
            [
             0,
             "#8e0152"
            ],
            [
             0.1,
             "#c51b7d"
            ],
            [
             0.2,
             "#de77ae"
            ],
            [
             0.3,
             "#f1b6da"
            ],
            [
             0.4,
             "#fde0ef"
            ],
            [
             0.5,
             "#f7f7f7"
            ],
            [
             0.6,
             "#e6f5d0"
            ],
            [
             0.7,
             "#b8e186"
            ],
            [
             0.8,
             "#7fbc41"
            ],
            [
             0.9,
             "#4d9221"
            ],
            [
             1,
             "#276419"
            ]
           ],
           "sequential": [
            [
             0,
             "#0d0887"
            ],
            [
             0.1111111111111111,
             "#46039f"
            ],
            [
             0.2222222222222222,
             "#7201a8"
            ],
            [
             0.3333333333333333,
             "#9c179e"
            ],
            [
             0.4444444444444444,
             "#bd3786"
            ],
            [
             0.5555555555555556,
             "#d8576b"
            ],
            [
             0.6666666666666666,
             "#ed7953"
            ],
            [
             0.7777777777777778,
             "#fb9f3a"
            ],
            [
             0.8888888888888888,
             "#fdca26"
            ],
            [
             1,
             "#f0f921"
            ]
           ],
           "sequentialminus": [
            [
             0,
             "#0d0887"
            ],
            [
             0.1111111111111111,
             "#46039f"
            ],
            [
             0.2222222222222222,
             "#7201a8"
            ],
            [
             0.3333333333333333,
             "#9c179e"
            ],
            [
             0.4444444444444444,
             "#bd3786"
            ],
            [
             0.5555555555555556,
             "#d8576b"
            ],
            [
             0.6666666666666666,
             "#ed7953"
            ],
            [
             0.7777777777777778,
             "#fb9f3a"
            ],
            [
             0.8888888888888888,
             "#fdca26"
            ],
            [
             1,
             "#f0f921"
            ]
           ]
          },
          "colorway": [
           "#636efa",
           "#EF553B",
           "#00cc96",
           "#ab63fa",
           "#FFA15A",
           "#19d3f3",
           "#FF6692",
           "#B6E880",
           "#FF97FF",
           "#FECB52"
          ],
          "font": {
           "color": "#2a3f5f"
          },
          "geo": {
           "bgcolor": "white",
           "lakecolor": "white",
           "landcolor": "#E5ECF6",
           "showlakes": true,
           "showland": true,
           "subunitcolor": "white"
          },
          "hoverlabel": {
           "align": "left"
          },
          "hovermode": "closest",
          "mapbox": {
           "style": "light"
          },
          "paper_bgcolor": "white",
          "plot_bgcolor": "#E5ECF6",
          "polar": {
           "angularaxis": {
            "gridcolor": "white",
            "linecolor": "white",
            "ticks": ""
           },
           "bgcolor": "#E5ECF6",
           "radialaxis": {
            "gridcolor": "white",
            "linecolor": "white",
            "ticks": ""
           }
          },
          "scene": {
           "xaxis": {
            "backgroundcolor": "#E5ECF6",
            "gridcolor": "white",
            "gridwidth": 2,
            "linecolor": "white",
            "showbackground": true,
            "ticks": "",
            "zerolinecolor": "white"
           },
           "yaxis": {
            "backgroundcolor": "#E5ECF6",
            "gridcolor": "white",
            "gridwidth": 2,
            "linecolor": "white",
            "showbackground": true,
            "ticks": "",
            "zerolinecolor": "white"
           },
           "zaxis": {
            "backgroundcolor": "#E5ECF6",
            "gridcolor": "white",
            "gridwidth": 2,
            "linecolor": "white",
            "showbackground": true,
            "ticks": "",
            "zerolinecolor": "white"
           }
          },
          "shapedefaults": {
           "line": {
            "color": "#2a3f5f"
           }
          },
          "ternary": {
           "aaxis": {
            "gridcolor": "white",
            "linecolor": "white",
            "ticks": ""
           },
           "baxis": {
            "gridcolor": "white",
            "linecolor": "white",
            "ticks": ""
           },
           "bgcolor": "#E5ECF6",
           "caxis": {
            "gridcolor": "white",
            "linecolor": "white",
            "ticks": ""
           }
          },
          "title": {
           "x": 0.05
          },
          "xaxis": {
           "automargin": true,
           "gridcolor": "white",
           "linecolor": "white",
           "ticks": "",
           "title": {
            "standoff": 15
           },
           "zerolinecolor": "white",
           "zerolinewidth": 2
          },
          "yaxis": {
           "automargin": true,
           "gridcolor": "white",
           "linecolor": "white",
           "ticks": "",
           "title": {
            "standoff": 15
           },
           "zerolinecolor": "white",
           "zerolinewidth": 2
          }
         }
        },
        "xaxis": {
         "title": {
          "text": "Data Point Pair"
         }
        },
        "yaxis": {
         "title": {
          "text": "Distance"
         }
        }
       }
      }
     },
     "metadata": {},
     "output_type": "display_data"
    }
   ],
   "source": [
    "def plot_distortion(lower, upper, new_dist):\n",
    "    lower_df = pd.DataFrame({'Lower Distortion Bound': lower})\n",
    "    upper_df = pd.DataFrame({'Upper Distortion Bound': upper})\n",
    "    new_dist_df = pd.DataFrame({'Embedding Distortion': new_dist})\n",
    "    \n",
    "    fig1 = px.scatter(lower_df)\n",
    "    fig2 = px.scatter(upper_df)\n",
    "    fig3 = px.scatter(new_dist_df, color_discrete_sequence=['black'])\n",
    "    fig = go.Figure(data=fig1.data + fig2.data + fig3.data).update_layout(\n",
    "            xaxis_title=\"Data Point Pair\", yaxis_title=\"Distance\",\n",
    "            margin_l=5, margin_t=5, margin_b=5, margin_r=5,\n",
    "            font_family=\"Serif\", font_size=14)\n",
    "    fig.update_traces(marker={'size': 3})\n",
    "    fig.layout.showlegend = True\n",
    "    \n",
    "    fname = 'distortion.png'\n",
    "    fig3.write_image(os.path.join(path, fname))\n",
    "    fig.show()\n",
    "    \n",
    "plot_distortion(lower, upper, new_dist)"
   ]
  }
 ],
 "metadata": {
  "kernelspec": {
   "display_name": "Python 3.10.10 ('gda')",
   "language": "python",
   "name": "python3"
  },
  "language_info": {
   "codemirror_mode": {
    "name": "ipython",
    "version": 3
   },
   "file_extension": ".py",
   "mimetype": "text/x-python",
   "name": "python",
   "nbconvert_exporter": "python",
   "pygments_lexer": "ipython3",
   "version": "3.10.10"
  },
  "orig_nbformat": 4,
  "vscode": {
   "interpreter": {
    "hash": "a98beebb4164b2e75d99a6401bd5dc0a8abed1f36e0639a946d5f0b548dca7e7"
   }
  }
 },
 "nbformat": 4,
 "nbformat_minor": 2
}
